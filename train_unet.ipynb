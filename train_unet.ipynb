{
 "cells": [
  {
   "cell_type": "code",
   "execution_count": 1,
   "metadata": {},
   "outputs": [],
   "source": [
    "import torch\n",
    "import torch.nn as nn\n",
    "import numpy as np\n",
    "from unet import UNet\n",
    "import matplotlib.pyplot as plt"
   ]
  },
  {
   "cell_type": "code",
   "execution_count": 2,
   "metadata": {},
   "outputs": [],
   "source": [
    "torch.cuda.set_device(0)\n",
    "device = torch.device('cuda')\n",
    "loss_function = nn.BCEWithLogitsLoss()"
   ]
  },
  {
   "cell_type": "code",
   "execution_count": 3,
   "metadata": {},
   "outputs": [
    {
     "name": "stdout",
     "output_type": "stream",
     "text": [
      "torch.Size([1213, 224, 224])\n",
      "torch.Size([135, 224, 224])\n"
     ]
    }
   ],
   "source": [
    "images = torch.tensor(np.load(\"images.npy\"), dtype=torch.float32)\n",
    "masks = torch.tensor(np.load(\"masks.npy\"), dtype=torch.float32)\n",
    "\n",
    "split = int(images.shape[0]*0.9)\n",
    "train_images = images[:split]\n",
    "train_labels = masks[:split]\n",
    "\n",
    "val_images = images[split:]\n",
    "val_labels = masks[split:]\n",
    "\n",
    "print(train_labels.shape)\n",
    "print(val_labels.shape)"
   ]
  },
  {
   "cell_type": "code",
   "execution_count": 4,
   "metadata": {},
   "outputs": [
    {
     "data": {
      "text/plain": [
       "UNet(\n",
       "  (conv_final): Conv2d(64, 1, kernel_size=(1, 1), stride=(1, 1))\n",
       "  (down_convs): ModuleList(\n",
       "    (0): DownConv(\n",
       "      (conv1): Conv2d(3, 64, kernel_size=(3, 3), stride=(1, 1), padding=(1, 1))\n",
       "      (conv2): Conv2d(64, 64, kernel_size=(3, 3), stride=(1, 1), padding=(1, 1))\n",
       "      (pool): MaxPool2d(kernel_size=2, stride=2, padding=0, dilation=1, ceil_mode=False)\n",
       "    )\n",
       "    (1): DownConv(\n",
       "      (conv1): Conv2d(64, 128, kernel_size=(3, 3), stride=(1, 1), padding=(1, 1))\n",
       "      (conv2): Conv2d(128, 128, kernel_size=(3, 3), stride=(1, 1), padding=(1, 1))\n",
       "      (pool): MaxPool2d(kernel_size=2, stride=2, padding=0, dilation=1, ceil_mode=False)\n",
       "    )\n",
       "    (2): DownConv(\n",
       "      (conv1): Conv2d(128, 256, kernel_size=(3, 3), stride=(1, 1), padding=(1, 1))\n",
       "      (conv2): Conv2d(256, 256, kernel_size=(3, 3), stride=(1, 1), padding=(1, 1))\n",
       "      (pool): MaxPool2d(kernel_size=2, stride=2, padding=0, dilation=1, ceil_mode=False)\n",
       "    )\n",
       "    (3): DownConv(\n",
       "      (conv1): Conv2d(256, 512, kernel_size=(3, 3), stride=(1, 1), padding=(1, 1))\n",
       "      (conv2): Conv2d(512, 512, kernel_size=(3, 3), stride=(1, 1), padding=(1, 1))\n",
       "      (pool): MaxPool2d(kernel_size=2, stride=2, padding=0, dilation=1, ceil_mode=False)\n",
       "    )\n",
       "    (4): DownConv(\n",
       "      (conv1): Conv2d(512, 1024, kernel_size=(3, 3), stride=(1, 1), padding=(1, 1))\n",
       "      (conv2): Conv2d(1024, 1024, kernel_size=(3, 3), stride=(1, 1), padding=(1, 1))\n",
       "    )\n",
       "  )\n",
       "  (up_convs): ModuleList(\n",
       "    (0): UpConv(\n",
       "      (upconv): ConvTranspose2d(1024, 512, kernel_size=(2, 2), stride=(2, 2))\n",
       "      (conv1): Conv2d(1024, 512, kernel_size=(3, 3), stride=(1, 1), padding=(1, 1))\n",
       "      (conv2): Conv2d(512, 512, kernel_size=(3, 3), stride=(1, 1), padding=(1, 1))\n",
       "    )\n",
       "    (1): UpConv(\n",
       "      (upconv): ConvTranspose2d(512, 256, kernel_size=(2, 2), stride=(2, 2))\n",
       "      (conv1): Conv2d(512, 256, kernel_size=(3, 3), stride=(1, 1), padding=(1, 1))\n",
       "      (conv2): Conv2d(256, 256, kernel_size=(3, 3), stride=(1, 1), padding=(1, 1))\n",
       "    )\n",
       "    (2): UpConv(\n",
       "      (upconv): ConvTranspose2d(256, 128, kernel_size=(2, 2), stride=(2, 2))\n",
       "      (conv1): Conv2d(256, 128, kernel_size=(3, 3), stride=(1, 1), padding=(1, 1))\n",
       "      (conv2): Conv2d(128, 128, kernel_size=(3, 3), stride=(1, 1), padding=(1, 1))\n",
       "    )\n",
       "    (3): UpConv(\n",
       "      (upconv): ConvTranspose2d(128, 64, kernel_size=(2, 2), stride=(2, 2))\n",
       "      (conv1): Conv2d(128, 64, kernel_size=(3, 3), stride=(1, 1), padding=(1, 1))\n",
       "      (conv2): Conv2d(64, 64, kernel_size=(3, 3), stride=(1, 1), padding=(1, 1))\n",
       "    )\n",
       "  )\n",
       ")"
      ]
     },
     "execution_count": 4,
     "metadata": {},
     "output_type": "execute_result"
    }
   ],
   "source": [
    "model = UNet(num_classes=1, in_channels=3, depth=5, merge_mode='concat')\n",
    "optimizer = torch.optim.Adam(model.parameters(), lr=1e-4)\n",
    "model.to(device)"
   ]
  },
  {
   "cell_type": "code",
   "execution_count": 5,
   "metadata": {},
   "outputs": [],
   "source": [
    "def val_loss():\n",
    "\tval_losses = []\n",
    "\tfor i in range(val_images.shape[0]):\n",
    "\t\tval_losses.append(loss_function(model(val_images[i:i+1].permute(0, 3, 1, 2).to(device)).squeeze(), val_labels[i:i+1].to(device).squeeze()).item())\n",
    "\treturn (sum(val_losses)/len(val_losses))"
   ]
  },
  {
   "cell_type": "code",
   "execution_count": 6,
   "metadata": {},
   "outputs": [],
   "source": [
    "losses = []"
   ]
  },
  {
   "cell_type": "code",
   "execution_count": 7,
   "metadata": {},
   "outputs": [
    {
     "name": "stdout",
     "output_type": "stream",
     "text": [
      "0.10091994666942844\n",
      "0.059184006877519464\n",
      "0.051073321562122416\n",
      "0.0399318330541805\n",
      "0.027804728404239372\n",
      "0.024480969441571722\n",
      "0.019718167520369645\n",
      "0.017084600052071942\n",
      "0.016193389361379325\n",
      "0.014447007959501611\n",
      "0.013856461306137068\n",
      "0.012714922293606731\n",
      "0.017853034739555032\n",
      "0.011228237320082607\n",
      "0.010124963333968211\n",
      "0.00970160397183564\n",
      "0.009068040466970868\n",
      "0.009867107288704978\n",
      "0.00824713608663943\n",
      "0.008150154405652924\n",
      "0.00740383453839631\n",
      "0.006578338177253802\n",
      "0.009590605292814197\n",
      "0.007253848123191684\n",
      "0.007014118502330449\n",
      "0.005623224326754334\n",
      "0.005506406844317637\n",
      "0.005458535039280024\n",
      "0.0059453410510387685\n",
      "0.00536718282641636\n",
      "0.011191711797275477\n",
      "0.006318089998051248\n",
      "0.018147355894972052\n",
      "0.00572695282753557\n",
      "0.006637798659330993\n",
      "0.004761288169323018\n",
      "0.004460020264162233\n",
      "0.0045476666004914375\n",
      "0.004271161676108561\n",
      "0.004279433952265039\n",
      "0.004616223077324254\n"
     ]
    },
    {
     "ename": "KeyboardInterrupt",
     "evalue": "",
     "output_type": "error",
     "traceback": [
      "\u001b[1;31m---------------------------------------------------------------------------\u001b[0m",
      "\u001b[1;31mKeyboardInterrupt\u001b[0m                         Traceback (most recent call last)",
      "Cell \u001b[1;32mIn [7], line 12\u001b[0m\n\u001b[0;32m      9\u001b[0m indices \u001b[38;5;241m=\u001b[39m permutation[i:i\u001b[38;5;241m+\u001b[39mbatch_size]\n\u001b[0;32m     10\u001b[0m x, y \u001b[38;5;241m=\u001b[39m train_images[indices], train_labels[indices]\n\u001b[1;32m---> 12\u001b[0m x \u001b[38;5;241m=\u001b[39m \u001b[43mx\u001b[49m\u001b[38;5;241;43m.\u001b[39;49m\u001b[43mto\u001b[49m\u001b[43m(\u001b[49m\u001b[43mdevice\u001b[49m\u001b[43m)\u001b[49m\n\u001b[0;32m     13\u001b[0m y \u001b[38;5;241m=\u001b[39m y\u001b[38;5;241m.\u001b[39mto(device)\n\u001b[0;32m     15\u001b[0m logits \u001b[38;5;241m=\u001b[39m model(x\u001b[38;5;241m.\u001b[39mpermute(\u001b[38;5;241m0\u001b[39m, \u001b[38;5;241m3\u001b[39m, \u001b[38;5;241m1\u001b[39m, \u001b[38;5;241m2\u001b[39m))\n",
      "\u001b[1;31mKeyboardInterrupt\u001b[0m: "
     ]
    }
   ],
   "source": [
    "n_epochs = 100\n",
    "batch_size = 16\n",
    "\n",
    "for epoch in range(n_epochs):\n",
    "\tpermutation = torch.randperm(train_images.shape[0])\n",
    "\tfor i in range(0, permutation.shape[0], batch_size):\n",
    "\t\toptimizer.zero_grad()\n",
    "\n",
    "\t\tindices = permutation[i:i+batch_size]\n",
    "\t\tx, y = train_images[indices], train_labels[indices]\n",
    "\n",
    "\t\tx = x.to(device)\n",
    "\t\ty = y.to(device)\n",
    "\n",
    "\t\tlogits = model(x.permute(0, 3, 1, 2))\n",
    "\t\tloss = loss_function(logits.squeeze(), y.squeeze())\n",
    "\t\tlosses.append(loss.item())\n",
    "\t\t\n",
    "\t\tloss.backward()\n",
    "\t\toptimizer.step()\n",
    "\tprint(val_loss())"
   ]
  },
  {
   "cell_type": "code",
   "execution_count": 8,
   "metadata": {},
   "outputs": [
    {
     "data": {
      "text/plain": [
       "[<matplotlib.lines.Line2D at 0x1e4e6ce08e0>]"
      ]
     },
     "execution_count": 8,
     "metadata": {},
     "output_type": "execute_result"
    },
    {
     "data": {
      "image/png": "[encoded data removed]",
      "text/plain": [
       "<Figure size 640x480 with 1 Axes>"
      ]
     },
     "metadata": {},
     "output_type": "display_data"
    }
   ],
   "source": [
    "plt.plot(losses)"
   ]
  },
  {
   "cell_type": "code",
   "execution_count": 19,
   "metadata": {},
   "outputs": [
    {
     "name": "stdout",
     "output_type": "stream",
     "text": [
      "torch.Size([135, 224, 224, 3])\n"
     ]
    }
   ],
   "source": [
    "print(val_images.shape)"
   ]
  },
  {
   "cell_type": "code",
   "execution_count": 45,
   "metadata": {},
   "outputs": [],
   "source": [
    "index = 1\n",
    "m = torch.sigmoid(model(val_images[index:index+1].permute(0, 3, 1, 2).to(device)).squeeze()).cpu().detach().numpy()"
   ]
  },
  {
   "cell_type": "code",
   "execution_count": 51,
   "metadata": {},
   "outputs": [
    {
     "data": {
      "text/plain": [
       "<matplotlib.image.AxesImage at 0x1e73c6b0790>"
      ]
     },
     "execution_count": 51,
     "metadata": {},
     "output_type": "execute_result"
    },
    {
     "data": {
      "image/png": "[encoded data removed]",
      "text/plain": [
       "<Figure size 640x480 with 1 Axes>"
      ]
     },
     "metadata": {},
     "output_type": "display_data"
    }
   ],
   "source": [
    "t = val_images[index:index+1].squeeze()\n",
    "r = t[:, :, 0]\n",
    "g = t[:, :, 1]\n",
    "b = t[:, :, 2]\n",
    "\n",
    "r = (r*0.229) + 0.485\n",
    "g = (g*0.224) + 0.456\n",
    "b = (b*0.225) + 0.406\n",
    "\n",
    "t = torch.stack([r, g, b], dim=2)\n",
    "\n",
    "plt.imshow(t.squeeze() * m.reshape(224, 224, 1))\n",
    "# plt.imshow(t.squeeze())\n",
    "# plt.imshow(m.reshape(224, 224, 1))"
   ]
  },
  {
   "cell_type": "code",
   "execution_count": null,
   "metadata": {},
   "outputs": [],
   "source": []
  }
 ],
 "metadata": {
  "kernelspec": {
   "display_name": "Python 3",
   "language": "python",
   "name": "python3"
  },
  "language_info": {
   "codemirror_mode": {
    "name": "ipython",
    "version": 3
   },
   "file_extension": ".py",
   "mimetype": "text/x-python",
   "name": "python",
   "nbconvert_exporter": "python",
   "pygments_lexer": "ipython3",
   "version": "3.10.6"
  }
 },
 "nbformat": 4,
 "nbformat_minor": 2
}
