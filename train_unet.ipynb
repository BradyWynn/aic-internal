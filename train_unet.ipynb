{
 "cells": [
  {
   "cell_type": "code",
   "execution_count": 15,
   "metadata": {},
   "outputs": [],
   "source": [
    "import torch\n",
    "import torch.nn as nn\n",
    "import numpy as np\n",
    "from unet import UNet\n",
    "import matplotlib.pyplot as plt\n",
    "import torchvision.ops as ops\n",
    "import cv2 as cv"
   ]
  },
  {
   "cell_type": "code",
   "execution_count": 2,
   "metadata": {},
   "outputs": [],
   "source": [
    "torch.cuda.set_device(0)\n",
    "device = torch.device('cuda')\n",
    "loss_function = nn.BCEWithLogitsLoss()"
   ]
  },
  {
   "cell_type": "code",
   "execution_count": 3,
   "metadata": {},
   "outputs": [
    {
     "name": "stdout",
     "output_type": "stream",
     "text": [
      "torch.Size([1213, 224, 224])\n",
      "torch.Size([135, 224, 224])\n"
     ]
    }
   ],
   "source": [
    "images = torch.tensor(np.load(\"images.npy\"), dtype=torch.float32)\n",
    "masks = torch.tensor(np.load(\"masks.npy\"), dtype=torch.float32)\n",
    "\n",
    "split = int(images.shape[0]*0.9)\n",
    "train_images = images[:split]\n",
    "train_labels = masks[:split]\n",
    "\n",
    "val_images = images[split:]\n",
    "val_labels = masks[split:]\n",
    "\n",
    "print(train_labels.shape)\n",
    "print(val_labels.shape)"
   ]
  },
  {
   "cell_type": "code",
   "execution_count": 4,
   "metadata": {},
   "outputs": [
    {
     "data": {
      "text/plain": [
       "UNet(\n",
       "  (conv_final): Conv2d(64, 1, kernel_size=(1, 1), stride=(1, 1))\n",
       "  (down_convs): ModuleList(\n",
       "    (0): DownConv(\n",
       "      (conv1): Conv2d(3, 64, kernel_size=(3, 3), stride=(1, 1), padding=(1, 1))\n",
       "      (conv2): Conv2d(64, 64, kernel_size=(3, 3), stride=(1, 1), padding=(1, 1))\n",
       "      (pool): MaxPool2d(kernel_size=2, stride=2, padding=0, dilation=1, ceil_mode=False)\n",
       "    )\n",
       "    (1): DownConv(\n",
       "      (conv1): Conv2d(64, 128, kernel_size=(3, 3), stride=(1, 1), padding=(1, 1))\n",
       "      (conv2): Conv2d(128, 128, kernel_size=(3, 3), stride=(1, 1), padding=(1, 1))\n",
       "      (pool): MaxPool2d(kernel_size=2, stride=2, padding=0, dilation=1, ceil_mode=False)\n",
       "    )\n",
       "    (2): DownConv(\n",
       "      (conv1): Conv2d(128, 256, kernel_size=(3, 3), stride=(1, 1), padding=(1, 1))\n",
       "      (conv2): Conv2d(256, 256, kernel_size=(3, 3), stride=(1, 1), padding=(1, 1))\n",
       "      (pool): MaxPool2d(kernel_size=2, stride=2, padding=0, dilation=1, ceil_mode=False)\n",
       "    )\n",
       "    (3): DownConv(\n",
       "      (conv1): Conv2d(256, 512, kernel_size=(3, 3), stride=(1, 1), padding=(1, 1))\n",
       "      (conv2): Conv2d(512, 512, kernel_size=(3, 3), stride=(1, 1), padding=(1, 1))\n",
       "      (pool): MaxPool2d(kernel_size=2, stride=2, padding=0, dilation=1, ceil_mode=False)\n",
       "    )\n",
       "    (4): DownConv(\n",
       "      (conv1): Conv2d(512, 1024, kernel_size=(3, 3), stride=(1, 1), padding=(1, 1))\n",
       "      (conv2): Conv2d(1024, 1024, kernel_size=(3, 3), stride=(1, 1), padding=(1, 1))\n",
       "    )\n",
       "  )\n",
       "  (up_convs): ModuleList(\n",
       "    (0): UpConv(\n",
       "      (upconv): ConvTranspose2d(1024, 512, kernel_size=(2, 2), stride=(2, 2))\n",
       "      (conv1): Conv2d(1024, 512, kernel_size=(3, 3), stride=(1, 1), padding=(1, 1))\n",
       "      (conv2): Conv2d(512, 512, kernel_size=(3, 3), stride=(1, 1), padding=(1, 1))\n",
       "    )\n",
       "    (1): UpConv(\n",
       "      (upconv): ConvTranspose2d(512, 256, kernel_size=(2, 2), stride=(2, 2))\n",
       "      (conv1): Conv2d(512, 256, kernel_size=(3, 3), stride=(1, 1), padding=(1, 1))\n",
       "      (conv2): Conv2d(256, 256, kernel_size=(3, 3), stride=(1, 1), padding=(1, 1))\n",
       "    )\n",
       "    (2): UpConv(\n",
       "      (upconv): ConvTranspose2d(256, 128, kernel_size=(2, 2), stride=(2, 2))\n",
       "      (conv1): Conv2d(256, 128, kernel_size=(3, 3), stride=(1, 1), padding=(1, 1))\n",
       "      (conv2): Conv2d(128, 128, kernel_size=(3, 3), stride=(1, 1), padding=(1, 1))\n",
       "    )\n",
       "    (3): UpConv(\n",
       "      (upconv): ConvTranspose2d(128, 64, kernel_size=(2, 2), stride=(2, 2))\n",
       "      (conv1): Conv2d(128, 64, kernel_size=(3, 3), stride=(1, 1), padding=(1, 1))\n",
       "      (conv2): Conv2d(64, 64, kernel_size=(3, 3), stride=(1, 1), padding=(1, 1))\n",
       "    )\n",
       "  )\n",
       ")"
      ]
     },
     "execution_count": 4,
     "metadata": {},
     "output_type": "execute_result"
    }
   ],
   "source": [
    "model = UNet(num_classes=1, in_channels=3, depth=5, merge_mode='concat')\n",
    "optimizer = torch.optim.Adam(model.parameters(), lr=1e-4)\n",
    "model.to(device)"
   ]
  },
  {
   "cell_type": "code",
   "execution_count": 5,
   "metadata": {},
   "outputs": [],
   "source": [
    "def val_loss():\n",
    "\tval_losses = []\n",
    "\tfor i in range(val_images.shape[0]):\n",
    "\t\tval_losses.append(loss_function(model(val_images[i:i+1].permute(0, 3, 1, 2).to(device)).squeeze(), val_labels[i:i+1].to(device).squeeze()).item())\n",
    "\treturn (sum(val_losses)/len(val_losses))"
   ]
  },
  {
   "cell_type": "code",
   "execution_count": 6,
   "metadata": {},
   "outputs": [],
   "source": [
    "losses = []"
   ]
  },
  {
   "cell_type": "code",
   "execution_count": 7,
   "metadata": {},
   "outputs": [
    {
     "name": "stdout",
     "output_type": "stream",
     "text": [
      "0.08629488059216076\n",
      "0.06336295011418837\n",
      "0.04659300511357961\n",
      "0.03552045261970273\n",
      "0.029420734872972525\n",
      "0.02823919302749413\n",
      "0.022310821042844542\n",
      "0.01933532183369001\n",
      "0.015834107667345693\n",
      "0.015687125158944614\n",
      "0.013119051477837342\n",
      "0.012787806691118965\n",
      "0.012044317533986435\n",
      "0.01293804185051057\n",
      "0.009761756165298048\n",
      "0.012781374042646752\n",
      "0.01056133140637367\n",
      "0.010382456516984988\n",
      "0.008667306006989546\n",
      "0.008536700650842654\n",
      "0.007645257957348669\n",
      "0.009037987391153971\n",
      "0.00725546071426598\n",
      "0.006161351621806346\n",
      "0.006165674405551895\n",
      "0.007008723029004479\n",
      "0.00557047343743896\n",
      "0.006189739474750779\n",
      "0.005221632476551113\n",
      "0.00532514880221613\n",
      "0.0061671662756621285\n",
      "0.006544582747543852\n",
      "0.005657928540474839\n",
      "0.004808585146545536\n",
      "0.0047890590210617695\n",
      "0.004964154190383851\n",
      "0.0050091470841801275\n",
      "0.0046569825538123645\n",
      "0.004666928970254958\n",
      "0.0044624512101075165\n",
      "0.004796778502943063\n",
      "0.004985058422338356\n",
      "0.0043475636298319804\n"
     ]
    },
    {
     "ename": "KeyboardInterrupt",
     "evalue": "",
     "output_type": "error",
     "traceback": [
      "\u001b[1;31m---------------------------------------------------------------------------\u001b[0m",
      "\u001b[1;31mKeyboardInterrupt\u001b[0m                         Traceback (most recent call last)",
      "Cell \u001b[1;32mIn [7], line 12\u001b[0m\n\u001b[0;32m      9\u001b[0m indices \u001b[38;5;241m=\u001b[39m permutation[i:i\u001b[38;5;241m+\u001b[39mbatch_size]\n\u001b[0;32m     10\u001b[0m x, y \u001b[38;5;241m=\u001b[39m train_images[indices], train_labels[indices]\n\u001b[1;32m---> 12\u001b[0m x \u001b[38;5;241m=\u001b[39m \u001b[43mx\u001b[49m\u001b[38;5;241;43m.\u001b[39;49m\u001b[43mto\u001b[49m\u001b[43m(\u001b[49m\u001b[43mdevice\u001b[49m\u001b[43m)\u001b[49m\n\u001b[0;32m     13\u001b[0m y \u001b[38;5;241m=\u001b[39m y\u001b[38;5;241m.\u001b[39mto(device)\n\u001b[0;32m     15\u001b[0m logits \u001b[38;5;241m=\u001b[39m model(x\u001b[38;5;241m.\u001b[39mpermute(\u001b[38;5;241m0\u001b[39m, \u001b[38;5;241m3\u001b[39m, \u001b[38;5;241m1\u001b[39m, \u001b[38;5;241m2\u001b[39m))\n",
      "\u001b[1;31mKeyboardInterrupt\u001b[0m: "
     ]
    }
   ],
   "source": [
    "n_epochs = 100\n",
    "batch_size = 16\n",
    "\n",
    "for epoch in range(n_epochs):\n",
    "\tpermutation = torch.randperm(train_images.shape[0])\n",
    "\tfor i in range(0, permutation.shape[0], batch_size):\n",
    "\t\toptimizer.zero_grad()\n",
    "\n",
    "\t\tindices = permutation[i:i+batch_size]\n",
    "\t\tx, y = train_images[indices], train_labels[indices]\n",
    "\n",
    "\t\tx = x.to(device)\n",
    "\t\ty = y.to(device)\n",
    "\n",
    "\t\tlogits = model(x.permute(0, 3, 1, 2))\n",
    "\t\tloss = loss_function(logits.squeeze(), y.squeeze())\n",
    "\t\tlosses.append(loss.item())\n",
    "\t\t\n",
    "\t\tloss.backward()\n",
    "\t\toptimizer.step()\n",
    "\tprint(val_loss())"
   ]
  },
  {
   "cell_type": "code",
   "execution_count": 8,
   "metadata": {},
   "outputs": [
    {
     "data": {
      "text/plain": [
       "[<matplotlib.lines.Line2D at 0x1f531814850>]"
      ]
     },
     "execution_count": 8,
     "metadata": {},
     "output_type": "execute_result"
    },
    {
     "data": {
      "image/png": "[encoded data removed]",
      "text/plain": [
       "<Figure size 640x480 with 1 Axes>"
      ]
     },
     "metadata": {},
     "output_type": "display_data"
    }
   ],
   "source": [
    "plt.plot(losses)"
   ]
  },
  {
   "cell_type": "code",
   "execution_count": 13,
   "metadata": {},
   "outputs": [],
   "source": [
    "torch.save(model, \"models/unet.pt\")"
   ]
  },
  {
   "cell_type": "code",
   "execution_count": 10,
   "metadata": {},
   "outputs": [],
   "source": [
    "test_images = torch.tensor(np.load(\"test_set.npy\"), dtype=torch.float32)"
   ]
  },
  {
   "cell_type": "code",
   "execution_count": 34,
   "metadata": {},
   "outputs": [],
   "source": [
    "cropped_images = []\n",
    "for i in range(test_images.shape[0]):\n",
    "\tm = torch.sigmoid(model(test_images[i:i+1].permute(0, 3, 1, 2).to(device)).squeeze()).cpu().detach()\n",
    "\tm = torch.threshold(m, 0.1, 0)\n",
    "\tpoints = ops.masks_to_boxes(m.unsqueeze(0)).int().tolist()[0]\n",
    "\timg = test_images[i] * m.unsqueeze(2)\n",
    "\timg = img[points[1]:points[3], points[0]:points[2]]\n",
    "\timg = cv.resize(img.numpy(), (64, 64))\n",
    "\tcropped_images.append(img)\n",
    "cropped_images = np.stack(cropped_images)\n",
    "np.save(\"cropped_test_set.npy\", cropped_images)"
   ]
  }
 ],
 "metadata": {
  "kernelspec": {
   "display_name": "Python 3",
   "language": "python",
   "name": "python3"
  },
  "language_info": {
   "codemirror_mode": {
    "name": "ipython",
    "version": 3
   },
   "file_extension": ".py",
   "mimetype": "text/x-python",
   "name": "python",
   "nbconvert_exporter": "python",
   "pygments_lexer": "ipython3",
   "version": "3.10.6"
  }
 },
 "nbformat": 4,
 "nbformat_minor": 2
}
